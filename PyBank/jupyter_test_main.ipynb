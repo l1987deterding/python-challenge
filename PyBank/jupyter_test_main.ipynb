{
 "cells": [
  {
   "cell_type": "code",
   "execution_count": 2,
   "metadata": {},
   "outputs": [],
   "source": [
    "#import file\n",
    "\n",
    "import os\n",
    "import csv"
   ]
  },
  {
   "cell_type": "code",
   "execution_count": 7,
   "metadata": {},
   "outputs": [],
   "source": [
    "#declare the csv path\n",
    "\n",
    "csvpath = os.path.join('Resources','budget_data.csv')"
   ]
  },
  {
   "cell_type": "code",
   "execution_count": 8,
   "metadata": {},
   "outputs": [],
   "source": [
    "#declare the variables \n",
    "total_months = 0\n",
    "net_total =0\n",
    "changes =[]\n",
    "date_count = []\n",
    "greatest_increase = 0\n",
    "greatest_increase_month = 0\n",
    "greatest_decrease = 0\n",
    "greatest_decrease_month = 0"
   ]
  },
  {
   "cell_type": "code",
   "execution_count": 11,
   "metadata": {},
   "outputs": [],
   "source": [
    "# Open the csv\n",
    "with open(csvpath, newline = '') as csvfile:\n",
    "    csvreader = csv.reader(csvfile, delimiter = ',')\n",
    "    next(csvreader, None)\n",
    "    row = next(csvreader)\n",
    "    \n",
    "# calculate the total number of months and total revenue\n",
    "    previous_profit = int(row[1])\n",
    "    total_months = total_months + 1\n",
    "    net_total = net_total + int(row[1])\n",
    "    greatest_increase = int(row[1])\n",
    "    greatest_increase_month = row[0]\n",
    "\n",
    "    for row in csvreader:\n",
    " \n",
    "        total_months = total_months + 1\n",
    "        net_total = net_total + int(row[1])\n",
    "\n",
    "        # calculate change from month-to-month\n",
    "        change = int(row[1]) - previous_profit\n",
    "        changes.append(change)\n",
    "        previous_profit = int(row[1])\n",
    "        date_count.append(row[0])\n",
    "        \n",
    "        #calculate the greatest increase\n",
    "        if int(row[1]) > greatest_increase:\n",
    "            greatest_inc = int(row[1])\n",
    "            greatest_increase_month = row[0]\n",
    "            \n",
    "        #calculate the greatest decrease\n",
    "        if int(row[1]) < greatest_decrease:\n",
    "            greatest_dec = int(row[1])\n",
    "            greatest_decrease_month = row[0]     "
   ]
  },
  {
   "cell_type": "code",
   "execution_count": 12,
   "metadata": {},
   "outputs": [
    {
     "ename": "SyntaxError",
     "evalue": "invalid syntax (<ipython-input-12-5488cef32195>, line 23)",
     "output_type": "error",
     "traceback": [
      "\u001b[0;36m  File \u001b[0;32m\"<ipython-input-12-5488cef32195>\"\u001b[0;36m, line \u001b[0;32m23\u001b[0m\n\u001b[0;31m    PyBank.write('\\n' +\"Greatest Decrease in Profits: \" + str(greatest_decrease_month)+ \"$\" + \"str(low)\" )\u001b[0m\n\u001b[0m    ^\u001b[0m\n\u001b[0;31mSyntaxError\u001b[0m\u001b[0;31m:\u001b[0m invalid syntax\n"
     ]
    }
   ],
   "source": [
    "    # calculate the average and date\n",
    "    average_change = sum(changes)/len(changes)\n",
    "\n",
    "    high = max(changes)\n",
    "    low = min(changes)\n",
    "\n",
    "    # print values\n",
    "    print(\"Financial Analysis\")\n",
    "    print(\"Total Months:\" + str(total_months))\n",
    "    print(\"Total Amount:\" + str(total_revenue))\n",
    "    print(average_change)\n",
    "    print(greatest_increase_month, max(changes))\n",
    "    print(greatest_decrease_month, min(changes))\n",
    "\n",
    "\n",
    "    # write output files\n",
    "    PyBank = open(\"output.txt\",\"w+\")\n",
    "    PyBank.write(\"Financial Analysis\") \n",
    "    PyBank.write('\\n' +\"Total Months\" + str(total_months)) \n",
    "    PyBank.write('\\n' +\"Total Amount\" + str(total_revenue)) \n",
    "    PyBank.write('\\n' +\"Average Change\" + str(average_change))\n",
    "    PyBank.write('\\n' +\"Greatest Increase in Profits: \" + str (greatest_increase_month) + \"$\" + \"str(high)\")\n",
    "    PyBank.write('\\n' +\"Greatest Decrease in Profits: \" + str(greatest_decrease_month)+ \"$\" + \"str(low)\" )"
   ]
  },
  {
   "cell_type": "code",
   "execution_count": null,
   "metadata": {},
   "outputs": [],
   "source": [
    "\n",
    "\n",
    "    "
   ]
  },
  {
   "cell_type": "code",
   "execution_count": null,
   "metadata": {},
   "outputs": [],
   "source": []
  },
  {
   "cell_type": "code",
   "execution_count": null,
   "metadata": {},
   "outputs": [],
   "source": []
  },
  {
   "cell_type": "code",
   "execution_count": null,
   "metadata": {},
   "outputs": [],
   "source": []
  }
 ],
 "metadata": {
  "kernelspec": {
   "display_name": "Python 3",
   "language": "python",
   "name": "python3"
  },
  "language_info": {
   "codemirror_mode": {
    "name": "ipython",
    "version": 3
   },
   "file_extension": ".py",
   "mimetype": "text/x-python",
   "name": "python",
   "nbconvert_exporter": "python",
   "pygments_lexer": "ipython3",
   "version": "3.8.5"
  }
 },
 "nbformat": 4,
 "nbformat_minor": 4
}

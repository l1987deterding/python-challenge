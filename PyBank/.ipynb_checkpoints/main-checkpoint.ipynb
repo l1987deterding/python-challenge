{
 "metadata": {
  "language_info": {
   "codemirror_mode": {
    "name": "ipython",
    "version": 3
   },
   "file_extension": ".py",
   "mimetype": "text/x-python",
   "name": "python",
   "nbconvert_exporter": "python",
   "pygments_lexer": "ipython3",
   "version": "3.9.1"
  },
  "orig_nbformat": 2,
  "kernelspec": {
   "name": "python391jvsc74a57bd07812ea015bdcee6f23a998adcdd2ef97c151c0c241b7b7070987d9313e41299d",
   "display_name": "Python 3.9.1 64-bit ('3.9')"
  },
  "metadata": {
   "interpreter": {
    "hash": "7812ea015bdcee6f23a998adcdd2ef97c151c0c241b7b7070987d9313e41299d"
   }
  }
 },
 "nbformat": 4,
 "nbformat_minor": 2,
 "cells": [
  {
   "cell_type": "code",
   "execution_count": 6,
   "metadata": {},
   "outputs": [],
   "source": [
    "#import os and csv\n",
    "import os\n",
    "import csv"
   ]
  },
  {
   "cell_type": "code",
   "execution_count": 7,
   "metadata": {},
   "outputs": [],
   "source": [
    "# set variables (profit losses = net amount, total_months = month_count)\n",
    "total_months = 0\n",
    "profit_losses = 0\n",
    "monthly_change = []\n",
    "total_months = []\n",
    "greatest_increase = 0\n",
    "greatest_decrease = 0\n"
   ]
  },
  {
   "cell_type": "code",
   "execution_count": 8,
   "metadata": {},
   "outputs": [],
   "source": [
    "# set filepath for budget_data.csv\n",
    "budget_datacsvpath=os.path.join(\"Resources\", \"budget_data.csv\")"
   ]
  },
  {
   "cell_type": "code",
   "execution_count": 4,
   "metadata": {},
   "outputs": [
    {
     "output_type": "stream",
     "name": "stdout",
     "text": [
      "Date,Profit/Losses\nJan-2010,867884\nFeb-2010,984655\nMar-2010,322013\nApr-2010,-69417\nMay-2010,310503\nJun-2010,522857\nJul-2010,1033096\nAug-2010,604885\nSep-2010,-216386\nOct-2010,477532\nNov-2010,893810\nDec-2010,-80353\nJan-2011,779806\nFeb-2011,-335203\nMar-2011,697845\nApr-2011,793163\nMay-2011,485070\nJun-2011,584122\nJul-2011,62729\nAug-2011,668179\nSep-2011,899906\nOct-2011,834719\nNov-2011,132003\nDec-2011,309978\nJan-2012,-755566\nFeb-2012,1170593\nMar-2012,252788\nApr-2012,1151518\nMay-2012,817256\nJun-2012,570757\nJul-2012,506702\nAug-2012,-1022534\nSep-2012,475062\nOct-2012,779976\nNov-2012,144175\nDec-2012,542494\nJan-2013,359333\nFeb-2013,321469\nMar-2013,67780\nApr-2013,471435\nMay-2013,565603\nJun-2013,872480\nJul-2013,789480\nAug-2013,999942\nSep-2013,-1196225\nOct-2013,268997\nNov-2013,-687986\nDec-2013,1150461\nJan-2014,682458\nFeb-2014,617856\nMar-2014,824098\nApr-2014,581943\nMay-2014,132864\nJun-2014,448062\nJul-2014,689161\nAug-2014,800701\nSep-2014,1166643\nOct-2014,947333\nNov-2014,578668\nDec-2014,988505\nJan-2015,1139715\nFeb-2015,1029471\nMar-2015,687533\nApr-2015,-524626\nMay-2015,158620\nJun-2015,87795\nJul-2015,423389\nAug-2015,840723\nSep-2015,568529\nOct-2015,332067\nNov-2015,989499\nDec-2015,778237\nJan-2016,650000\nFeb-2016,-1100387\nMar-2016,-174946\nApr-2016,757143\nMay-2016,445709\nJun-2016,712961\nJul-2016,-1163797\nAug-2016,569899\nSep-2016,768450\nOct-2016,102685\nNov-2016,795914\nDec-2016,60988\nJan-2017,138230\nFeb-2017,671099\n\n<class 'str'>\n"
     ]
    }
   ],
   "source": [
    "with open(budget_datacsvpath, 'r') as file_handler:\n",
    "    lines= file_handler.read()\n",
    "    print(lines)\n",
    "    print(type(lines))"
   ]
  },
  {
   "cell_type": "code",
   "execution_count": 9,
   "metadata": {},
   "outputs": [
    {
     "output_type": "error",
     "ename": "TypeError",
     "evalue": "can only concatenate list (not \"int\") to list",
     "traceback": [
      "\u001b[0;31m---------------------------------------------------------------------------\u001b[0m",
      "\u001b[0;31mTypeError\u001b[0m                                 Traceback (most recent call last)",
      "\u001b[0;32m<ipython-input-9-5b52f538943f>\u001b[0m in \u001b[0;36m<module>\u001b[0;34m\u001b[0m\n\u001b[1;32m      8\u001b[0m \u001b[0;34m\u001b[0m\u001b[0m\n\u001b[1;32m      9\u001b[0m         \u001b[0;31m#calculate the total number of months included in the dataset\u001b[0m\u001b[0;34m\u001b[0m\u001b[0;34m\u001b[0m\u001b[0;34m\u001b[0m\u001b[0m\n\u001b[0;32m---> 10\u001b[0;31m         \u001b[0mtotal_months\u001b[0m\u001b[0;34m=\u001b[0m \u001b[0mtotal_months\u001b[0m \u001b[0;34m+\u001b[0m \u001b[0;36m1\u001b[0m\u001b[0;34m\u001b[0m\u001b[0;34m\u001b[0m\u001b[0m\n\u001b[0m\u001b[1;32m     11\u001b[0m \u001b[0;34m\u001b[0m\u001b[0m\n\u001b[1;32m     12\u001b[0m         \u001b[0;31m#calculate the total amount of \"Profit/Losses\" over the entire period\u001b[0m\u001b[0;34m\u001b[0m\u001b[0;34m\u001b[0m\u001b[0;34m\u001b[0m\u001b[0m\n",
      "\u001b[0;31mTypeError\u001b[0m: can only concatenate list (not \"int\") to list"
     ]
    }
   ],
   "source": [
    "#open and read the file\n",
    "with open(budget_datacsvpath, newline='') as csvfile:\n",
    "    #standard csv reader line\n",
    "    csvreader = csv.reader(csvfile, delimiter=',')\n",
    "\n",
    "    #read the data in each row\n",
    "    for row in csvreader:\n",
    "        \n",
    "        #calculate the total number of months included in the dataset\n",
    "        total_months= total_months + 1\n",
    "\n",
    "        #calculate the total amount of \"Profit/Losses\" over the entire period\n",
    "        profit_losses += int(row[1])\n",
    "\n",
    "        #calculate the changes in \"Profit/Losses\" over the entire period\n",
    "        #calculate this by taking the change month-to-month\n",
    "        monthly_change = int(row[1])- previous_row\n",
    "\n",
    "        #append monthly change \n",
    "        review_monthly_change.append(monthly_change)\n",
    "\n",
    "        #define previous row\n",
    "        previous_row = int(row[1])\n",
    "\n",
    "        #count the correct month\n",
    "        month_count.append(row[0])\n"
   ]
  },
  {
   "cell_type": "code",
   "execution_count": null,
   "metadata": {},
   "outputs": [],
   "source": []
  }
 ]
}
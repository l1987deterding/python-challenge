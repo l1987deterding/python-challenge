{
 "cells": [
  {
   "cell_type": "code",
   "execution_count": 84,
   "metadata": {},
   "outputs": [],
   "source": [
    "#import file\n",
    "import os\n",
    "import csv\n"
   ]
  },
  {
   "cell_type": "code",
   "execution_count": 85,
   "metadata": {},
   "outputs": [],
   "source": [
    "#filepath\n",
    "election_file = os.path.join(os.getcwd(),'Resources','election_data.csv')"
   ]
  },
  {
   "cell_type": "code",
   "execution_count": 86,
   "metadata": {},
   "outputs": [
    {
     "data": {
      "text/plain": [
       "'/Users/deterding.lydia/Desktop/python-challenge/PyPoll/Resources/election_data.csv'"
      ]
     },
     "execution_count": 86,
     "metadata": {},
     "output_type": "execute_result"
    }
   ],
   "source": [
    "election_file"
   ]
  },
  {
   "cell_type": "code",
   "execution_count": 87,
   "metadata": {},
   "outputs": [],
   "source": [
    "#initialize variables\n",
    "total_votes = 0\n",
    "khan_votes = 0\n",
    "correy_votes = 0\n",
    "li_votes = 0\n",
    "otooley_votes = 0\n"
   ]
  },
  {
   "cell_type": "code",
   "execution_count": 97,
   "metadata": {},
   "outputs": [],
   "source": [
    "#create the loop\n",
    "with open(election_file,'r') as csvfile:\n",
    "    csvreader = csv.reader(csvfile, delimiter = ',')\n",
    "    \n",
    "    #skip header row\n",
    "    csv_header = next(csvfile)\n",
    "    \n",
    "    #loop through data for total_votes\n",
    "    for row in csvreader:\n",
    "        total_votes += 1\n",
    "        #calculate votes for each candidate\n",
    "        if (row[2] == 'Khan'):\n",
    "            khan_votes +=1\n",
    "        elif (row[2] == 'Correy'):\n",
    "            correy_votes += 1\n",
    "        elif (row[2] == 'Li'):\n",
    "            li_votes += 1\n",
    "        else:\n",
    "            otooley_votes += 1\n",
    "            \n",
    "    #show number of votes as percentages\n",
    "    khan_percent = khan_votes / total_votes\n",
    "    correy_percent = correy_votes / total_votes\n",
    "    li_percent = li_votes / total_votes\n",
    "    otooley_percent = otooley_votes / total_votes\n",
    "    \n",
    "    #calculate the winner\n",
    "    winner = max(khan_votes, correy_votes, li_votes, otooley_votes)\n",
    "    \n",
    "    if winner == khan_votes:\n",
    "        winner_name = 'Khan'\n",
    "    elif winner == correy_votes:\n",
    "        winner_name = 'Correy'\n",
    "    elif winner == li_votes: \n",
    "        winner_name = 'Li'\n",
    "    else:\n",
    "        winner_name = \"O'Tooley\"\n",
    "\n",
    "\n"
   ]
  },
  {
   "cell_type": "code",
   "execution_count": 98,
   "metadata": {},
   "outputs": [
    {
     "name": "stdout",
     "output_type": "stream",
     "text": [
      "Election Results\n",
      "*****************************\n",
      "Total Votes: 7042002\n",
      "*****************************\n",
      "Khan: 63.000011%(4436462)\n",
      "Correy: 19.999994%(1408400)\n",
      "Li: 13.999996%(985880)\n",
      "O'Tooley: 2.999999%(211260)\n",
      "*****************************\n",
      "Winner: Khan\n",
      "Congratulations, Khan!!!\n"
     ]
    }
   ],
   "source": [
    "#To terminal\n",
    "print(f'Election Results')\n",
    "print(f'*****************************')\n",
    "print(f'Total Votes: {total_votes}')\n",
    "print(f'*****************************')\n",
    "print(f'Khan: {khan_percent:%}({khan_votes})')\n",
    "print(f'Correy: {correy_percent:%}({correy_votes})')\n",
    "print(f'Li: {li_percent:%}({li_votes})')\n",
    "print(f\"O'Tooley: {otooley_percent:%}({otooley_votes})\")\n",
    "print(f'*****************************')\n",
    "print(f'Winner: {winner_name}')\n",
    "print(f'Congratulations, {winner_name}!!!')"
   ]
  },
  {
   "cell_type": "code",
   "execution_count": null,
   "metadata": {},
   "outputs": [],
   "source": []
  }
 ],
 "metadata": {
  "kernelspec": {
   "display_name": "Python 3",
   "language": "python",
   "name": "python3"
  },
  "language_info": {
   "codemirror_mode": {
    "name": "ipython",
    "version": 3
   },
   "file_extension": ".py",
   "mimetype": "text/x-python",
   "name": "python",
   "nbconvert_exporter": "python",
   "pygments_lexer": "ipython3",
   "version": "3.8.5"
  }
 },
 "nbformat": 4,
 "nbformat_minor": 4
}

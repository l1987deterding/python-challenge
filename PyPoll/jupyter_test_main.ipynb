{
 "cells": [
  {
   "cell_type": "code",
   "execution_count": 1,
   "metadata": {},
   "outputs": [
    {
     "ename": "AttributeError",
     "evalue": "'tuple' object has no attribute 'keys'",
     "output_type": "error",
     "traceback": [
      "\u001b[0;31m---------------------------------------------------------------------------\u001b[0m",
      "\u001b[0;31mAttributeError\u001b[0m                            Traceback (most recent call last)",
      "\u001b[0;32m<ipython-input-1-455d158503f6>\u001b[0m in \u001b[0;36m<module>\u001b[0;34m\u001b[0m\n\u001b[1;32m     13\u001b[0m     \u001b[0;32mfor\u001b[0m \u001b[0mrow\u001b[0m \u001b[0;32min\u001b[0m \u001b[0mcsvread\u001b[0m\u001b[0;34m:\u001b[0m\u001b[0;34m\u001b[0m\u001b[0;34m\u001b[0m\u001b[0m\n\u001b[1;32m     14\u001b[0m         \u001b[0mtotal_votes\u001b[0m \u001b[0;34m+=\u001b[0m \u001b[0;36m1\u001b[0m\u001b[0;34m\u001b[0m\u001b[0;34m\u001b[0m\u001b[0m\n\u001b[0;32m---> 15\u001b[0;31m         \u001b[0;32mif\u001b[0m \u001b[0mrow\u001b[0m\u001b[0;34m[\u001b[0m\u001b[0;36m2\u001b[0m\u001b[0;34m]\u001b[0m \u001b[0;32min\u001b[0m \u001b[0mpoll_data\u001b[0m\u001b[0;34m.\u001b[0m\u001b[0mkeys\u001b[0m\u001b[0;34m(\u001b[0m\u001b[0;34m)\u001b[0m\u001b[0;34m:\u001b[0m\u001b[0;34m\u001b[0m\u001b[0;34m\u001b[0m\u001b[0m\n\u001b[0m\u001b[1;32m     16\u001b[0m             \u001b[0mpoll_data\u001b[0m\u001b[0;34m[\u001b[0m\u001b[0mrow\u001b[0m\u001b[0;34m[\u001b[0m\u001b[0;36m2\u001b[0m\u001b[0;34m]\u001b[0m\u001b[0;34m]\u001b[0m \u001b[0;34m=\u001b[0m \u001b[0mpoll_data\u001b[0m\u001b[0;34m[\u001b[0m\u001b[0mrow\u001b[0m\u001b[0;34m[\u001b[0m\u001b[0;36m2\u001b[0m\u001b[0;34m]\u001b[0m\u001b[0;34m]\u001b[0m \u001b[0;34m+\u001b[0m \u001b[0;36m1\u001b[0m\u001b[0;34m\u001b[0m\u001b[0;34m\u001b[0m\u001b[0m\n\u001b[1;32m     17\u001b[0m         \u001b[0;32melse\u001b[0m\u001b[0;34m:\u001b[0m\u001b[0;34m\u001b[0m\u001b[0;34m\u001b[0m\u001b[0m\n",
      "\u001b[0;31mAttributeError\u001b[0m: 'tuple' object has no attribute 'keys'"
     ]
    }
   ],
   "source": [
    "import os \n",
    "import csv\n",
    "#path to the csvfile\n",
    "csvpath = os.path.join(os.getcwd(),'Resources','election_data.csv')\n",
    "\n",
    "#initializing the variables \n",
    "poll_data=()\n",
    "total_votes = 0\n",
    "with open(csvpath, 'r') as csvfile:\n",
    "    csvread = csv.reader(csvfile)\n",
    "    next(csvread, None)\n",
    "\n",
    "    for row in csvread:\n",
    "        total_votes += 1\n",
    "        if row[2] in poll_data.keys():\n",
    "            poll_data[row[2]] = poll_data[row[2]] + 1\n",
    "        else:\n",
    "            poll_data[row[2]] = 1 \n",
    "    \n",
    "\n",
    "candidates = []  \n",
    "tot_num_votes = []\n",
    "# Total Number of votes\n",
    "for key, value in poll_data.items():\n",
    "    candidates.append(key)\n",
    "    tot_num_votes.append(value)\n",
    "  \n",
    "# Percentage of votes\n",
    "percentage_votes =[]\n",
    "for n in tot_num_votes:\n",
    "    percentage_votes.append(round(n/total_votes * 100, 1))\n",
    " \n",
    "# Finding the winner\n",
    "clean_data = list(zip(candidates, tot_num_votes, percentage_votes))\n",
    "\n",
    "winner_list = []\n",
    "for name in clean_data:\n",
    "    if max(tot_num_votes) == name[1]:\n",
    "        winner_list.append(name[0])\n",
    "winner = winner_list[0]\n",
    "\n",
    "# Print all data\n",
    "print (\"Election results :\")\n",
    "print(total_votes) \n",
    "print(candidates)  \n",
    "print(percentage_votes)\n",
    "print(tot_num_votes)  \n",
    "print(winner)\n",
    "\n",
    "# Writng output files\n",
    "PyPoll = open(\"output.txt\",\"w+\")\n",
    "PyPoll.write(\"Election Results\")  \n",
    "PyPoll.write('\\n' + \"Total_votes\" + str(total_votes)) \n",
    "PyPoll.write('\\n' + str(candidates))\n",
    "PyPoll.write('\\n' + str(percentage_votes))\n",
    "PyPoll.write('\\n' + str(tot_num_votes)) \n",
    "PyPoll.write('\\n' + \"Winner:\" + winner)    \n"
   ]
  },
  {
   "cell_type": "code",
   "execution_count": null,
   "metadata": {},
   "outputs": [],
   "source": []
  },
  {
   "cell_type": "code",
   "execution_count": null,
   "metadata": {},
   "outputs": [],
   "source": []
  }
 ],
 "metadata": {
  "kernelspec": {
   "display_name": "Python 3",
   "language": "python",
   "name": "python3"
  },
  "language_info": {
   "codemirror_mode": {
    "name": "ipython",
    "version": 3
   },
   "file_extension": ".py",
   "mimetype": "text/x-python",
   "name": "python",
   "nbconvert_exporter": "python",
   "pygments_lexer": "ipython3",
   "version": "3.8.5"
  }
 },
 "nbformat": 4,
 "nbformat_minor": 4
}
